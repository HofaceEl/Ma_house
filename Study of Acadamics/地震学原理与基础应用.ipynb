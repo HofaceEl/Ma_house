{
 "cells": [
  {
   "cell_type": "markdown",
   "metadata": {},
   "source": [
    "# 地震学原理与基础应用"
   ]
  },
  {
   "cell_type": "markdown",
   "metadata": {},
   "source": [
    "## 从观测开始——地震图\n",
    "在某时某地发生了地震——该地，质点随时间发生运动——被观测记录。\n",
    "\n",
    "观测信息表明，远处的地震源头发出信号，经过传播，被观察者记录：\n",
    "\n",
    "$$\n",
    "u(t) = S(t)*G(t)*I(t)\n",
    "$$\n",
    "\n",
    "其中$u(t)$表示该点的位移，也就是台站记录的“震动”信号，即地震图（seismogram）；$S(t)$表示震源的信号，$G(t)$表示了信号经过介质发生的变化/对所经过的介质的响应，即所谓“场对源的响应”——格林函数；$I(t)$表示仪器对这些信号的反映。\n",
    "\n",
    "可见，地震记录由震源、传播介质、接收仪器三部分（“起因、经过、结果”）的叠加作用所生成。一般仪器响应$I(t)$已知，因此主要研究的就是**震源**与**结构**的信息。\n",
    "\n",
    "地震元数据（metadata）则记录了地震台站的地理位置和仪器的响应等信息。因此元数据和地震图结合可构成完备的地震观测记录；震相、波形等信息均记录在内。\n",
    "\n",
    "利用完备的地震观测，结合地层信息（或地层假设）和波动方程等数理预设，就可以开展一系列的地震学研究工作，进行波形反演、地层结构恢复等探索。\n",
    "![<img src=\"./jupyter_logo.png\", width=320, heigth=240>](https://file.notion.so/f/f/d4e2b7a8-863f-4772-b1b0-dd9ce6a5defb/a3efe0f5-4487-4747-9bae-efb593b23e85/image.png?table=block&id=13efe443-1c3e-80c8-a4e4-c5008ffe0c72&spaceId=d4e2b7a8-863f-4772-b1b0-dd9ce6a5defb&expirationTimestamp=1732017600000&signature=i-5YCTYFlAikUbQBW6fD0_Fq_YlBeSFWlTWHEmH9x30&downloadName=image.png)"
   ]
  },
  {
   "cell_type": "markdown",
   "metadata": {},
   "source": [
    "## 数据记录与下载\n",
    "上面提到，地震的观测就是台站所记录到的信号。由于信号以一定的规律进行时空上的传播，因此具有一定强度的地震事件往往能够被多个台站所接收。\n",
    "\n",
    "从宽泛到细节，数据一般分为**地震目录**（某时某地，某强度的震源信息）、**台站数据**（某一个台站的信号记录）和**波形数据**（可以是不同空间分量，如北东下三分量中的其中一个）。\n",
    "\n",
    "常用软件介绍详见[常用软件 — 地震“学”科研入门教程](https://seismo-learn.org/seismology101/exercises/software/)。由于Python的易用性和简洁性，下面默认使用obspy库进行数据的处理和分析。"
   ]
  },
  {
   "cell_type": "markdown",
   "metadata": {},
   "source": [
    "### 地震目录\n",
    "从USGS下载：[Search Earthquake Catalog](https://earthquake.usgs.gov/earthquakes/search/)\n",
    "\n",
    "从EARS下载：[EARS - Home](http://ears.iris.washington.edu/index.html)\n",
    "\n",
    "用obspy："
   ]
  },
  {
   "cell_type": "code",
   "execution_count": 10,
   "metadata": {},
   "outputs": [
    {
     "name": "stdout",
     "output_type": "stream",
     "text": [
      "25 Event(s) in Catalog:\n",
      "2024-09-13T23:03:41.334000Z | +29.811, +130.921 | 5.7  mww | manual\n",
      "2024-09-12T23:48:17.804000Z | +30.979, +141.315 | 5.2  mww | manual\n",
      "...\n",
      "2024-01-27T23:59:29.184000Z | +35.533, +139.956 | 5.1  mb | manual\n",
      "2024-01-26T12:46:16.087000Z | +29.124, +141.556 | 5.4  mww | manual\n",
      "To see all events call 'print(CatalogObject.__str__(print_all=True))'\n"
     ]
    },
    {
     "ename": "ImportError",
     "evalue": "Cartopy could not be imported.",
     "output_type": "error",
     "traceback": [
      "\u001b[0;31m---------------------------------------------------------------------------\u001b[0m",
      "\u001b[0;31mImportError\u001b[0m                               Traceback (most recent call last)",
      "Cell \u001b[0;32mIn[10], line 30\u001b[0m\n\u001b[1;32m     27\u001b[0m catalog_read \u001b[38;5;241m=\u001b[39m read_events(\u001b[38;5;124m\"\u001b[39m\u001b[38;5;124mjapan-earthquakes.xml\u001b[39m\u001b[38;5;124m\"\u001b[39m)\n\u001b[1;32m     29\u001b[0m \u001b[38;5;66;03m# 地震目录类自带的绘图功能（类似GMT的参数\u001b[39;00m\n\u001b[0;32m---> 30\u001b[0m \u001b[43mcatalog_read\u001b[49m\u001b[38;5;241;43m.\u001b[39;49m\u001b[43mplot\u001b[49m\u001b[43m(\u001b[49m\u001b[43mprojection\u001b[49m\u001b[38;5;241;43m=\u001b[39;49m\u001b[38;5;124;43m\"\u001b[39;49m\u001b[38;5;124;43mlocal\u001b[39;49m\u001b[38;5;124;43m\"\u001b[39;49m\u001b[43m,\u001b[49m\u001b[43m \u001b[49m\u001b[43mresolution\u001b[49m\u001b[38;5;241;43m=\u001b[39;49m\u001b[38;5;124;43m\"\u001b[39;49m\u001b[38;5;124;43mi\u001b[39;49m\u001b[38;5;124;43m\"\u001b[39;49m\u001b[43m)\u001b[49m\n",
      "File \u001b[0;32m~/.python/current/lib/python3.12/site-packages/obspy/core/event/catalog.py:752\u001b[0m, in \u001b[0;36mCatalog.plot\u001b[0;34m(self, projection, resolution, continent_fill_color, water_fill_color, label, color, colormap, show, outfile, method, fig, title, **kwargs)\u001b[0m\n\u001b[1;32m    743\u001b[0m     _plot_cartopy_into_axes(\n\u001b[1;32m    744\u001b[0m         ax\u001b[38;5;241m=\u001b[39max, lons\u001b[38;5;241m=\u001b[39mlons, lats\u001b[38;5;241m=\u001b[39mlats, size\u001b[38;5;241m=\u001b[39msize_plot,\n\u001b[1;32m    745\u001b[0m         color\u001b[38;5;241m=\u001b[39mcolors, labels\u001b[38;5;241m=\u001b[39mlabels,\n\u001b[0;32m   (...)\u001b[0m\n\u001b[1;32m    749\u001b[0m         colormap\u001b[38;5;241m=\u001b[39mcolormap, marker\u001b[38;5;241m=\u001b[39m\u001b[38;5;124m\"\u001b[39m\u001b[38;5;124mo\u001b[39m\u001b[38;5;124m\"\u001b[39m, title\u001b[38;5;241m=\u001b[39mtitle,\n\u001b[1;32m    750\u001b[0m         show\u001b[38;5;241m=\u001b[39m\u001b[38;5;28;01mFalse\u001b[39;00m, \u001b[38;5;241m*\u001b[39m\u001b[38;5;241m*\u001b[39mkwargs)\n\u001b[1;32m    751\u001b[0m \u001b[38;5;28;01melse\u001b[39;00m:\n\u001b[0;32m--> 752\u001b[0m     fig \u001b[38;5;241m=\u001b[39m \u001b[43mplot_map\u001b[49m\u001b[43m(\u001b[49m\u001b[43mmethod\u001b[49m\u001b[43m,\u001b[49m\u001b[43m \u001b[49m\u001b[43mlons\u001b[49m\u001b[43m,\u001b[49m\u001b[43m \u001b[49m\u001b[43mlats\u001b[49m\u001b[43m,\u001b[49m\u001b[43m \u001b[49m\u001b[43msize_plot\u001b[49m\u001b[43m,\u001b[49m\u001b[43m \u001b[49m\u001b[43mcolors\u001b[49m\u001b[43m,\u001b[49m\u001b[43m \u001b[49m\u001b[43mlabels\u001b[49m\u001b[43m,\u001b[49m\n\u001b[1;32m    753\u001b[0m \u001b[43m                   \u001b[49m\u001b[43mprojection\u001b[49m\u001b[38;5;241;43m=\u001b[39;49m\u001b[43mprojection\u001b[49m\u001b[43m,\u001b[49m\u001b[43m \u001b[49m\u001b[43mresolution\u001b[49m\u001b[38;5;241;43m=\u001b[39;49m\u001b[43mresolution\u001b[49m\u001b[43m,\u001b[49m\n\u001b[1;32m    754\u001b[0m \u001b[43m                   \u001b[49m\u001b[43mcontinent_fill_color\u001b[49m\u001b[38;5;241;43m=\u001b[39;49m\u001b[43mcontinent_fill_color\u001b[49m\u001b[43m,\u001b[49m\n\u001b[1;32m    755\u001b[0m \u001b[43m                   \u001b[49m\u001b[43mwater_fill_color\u001b[49m\u001b[38;5;241;43m=\u001b[39;49m\u001b[43mwater_fill_color\u001b[49m\u001b[43m,\u001b[49m\n\u001b[1;32m    756\u001b[0m \u001b[43m                   \u001b[49m\u001b[43mcolormap\u001b[49m\u001b[38;5;241;43m=\u001b[39;49m\u001b[43mcolormap\u001b[49m\u001b[43m,\u001b[49m\u001b[43m \u001b[49m\u001b[43mmarker\u001b[49m\u001b[38;5;241;43m=\u001b[39;49m\u001b[38;5;124;43m\"\u001b[39;49m\u001b[38;5;124;43mo\u001b[39;49m\u001b[38;5;124;43m\"\u001b[39;49m\u001b[43m,\u001b[49m\u001b[43m \u001b[49m\u001b[43mtitle\u001b[49m\u001b[38;5;241;43m=\u001b[39;49m\u001b[43mtitle\u001b[49m\u001b[43m,\u001b[49m\n\u001b[1;32m    757\u001b[0m \u001b[43m                   \u001b[49m\u001b[43mshow\u001b[49m\u001b[38;5;241;43m=\u001b[39;49m\u001b[38;5;28;43;01mFalse\u001b[39;49;00m\u001b[43m,\u001b[49m\u001b[43m \u001b[49m\u001b[43mfig\u001b[49m\u001b[38;5;241;43m=\u001b[39;49m\u001b[43mfig\u001b[49m\u001b[43m,\u001b[49m\u001b[43m \u001b[49m\u001b[38;5;241;43m*\u001b[39;49m\u001b[38;5;241;43m*\u001b[39;49m\u001b[43mkwargs\u001b[49m\u001b[43m)\u001b[49m\n\u001b[1;32m    759\u001b[0m \u001b[38;5;28;01mif\u001b[39;00m outfile:\n\u001b[1;32m    760\u001b[0m     fig\u001b[38;5;241m.\u001b[39msavefig(outfile)\n",
      "File \u001b[0;32m~/.python/current/lib/python3.12/site-packages/obspy/imaging/maps.py:502\u001b[0m, in \u001b[0;36mplot_map\u001b[0;34m(method, *args, **kwargs)\u001b[0m\n\u001b[1;32m    500\u001b[0m         \u001b[38;5;28;01mreturn\u001b[39;00m plot_cartopy(\u001b[38;5;241m*\u001b[39margs, \u001b[38;5;241m*\u001b[39m\u001b[38;5;241m*\u001b[39mkwargs)\n\u001b[1;32m    501\u001b[0m     \u001b[38;5;28;01melse\u001b[39;00m:\n\u001b[0;32m--> 502\u001b[0m         \u001b[38;5;28;01mraise\u001b[39;00m \u001b[38;5;167;01mImportError\u001b[39;00m(\u001b[38;5;124m'\u001b[39m\u001b[38;5;124mCartopy could not be imported.\u001b[39m\u001b[38;5;124m'\u001b[39m)\n\u001b[1;32m    503\u001b[0m \u001b[38;5;28;01melif\u001b[39;00m method \u001b[38;5;241m==\u001b[39m \u001b[38;5;124m'\u001b[39m\u001b[38;5;124mcartopy\u001b[39m\u001b[38;5;124m'\u001b[39m:\n\u001b[1;32m    504\u001b[0m     \u001b[38;5;28;01mif\u001b[39;00m \u001b[38;5;129;01mnot\u001b[39;00m HAS_CARTOPY:\n",
      "\u001b[0;31mImportError\u001b[0m: Cartopy could not be imported."
     ]
    }
   ],
   "source": [
    "# 导入obspy用于获取地震目录的包\n",
    "from obspy.clients.fdsn import Client\n",
    "\n",
    "# 初始化句柄对象\n",
    "client = Client(\"USGS\")\n",
    "\n",
    "# 获取地震事件目录（catalog类，可视作以地震事件event为元素的列表\n",
    "catalog = client.get_events(\n",
    "    starttime=\"2024-01-01\", # 开始时间\n",
    "    endtime=\"2024-10-01\",   # 截止时间\n",
    "    minmagnitude=5.0,   # 最小震级\n",
    "    mindepth=30,            # 最小震源深度\n",
    "    minlatitude=29,         # 纬度范围起点\n",
    "    maxlatitude=50,         # 纬度范围终点\n",
    "    minlongitude=125,   # 经度范围起点\n",
    "    maxlongitude=145    # 经度范围终点\n",
    ")\n",
    "\n",
    "# 展示获取的目录信息\n",
    "print(catalog)\n",
    "\n",
    "# 保存获取的台站信息，以QuakeML形式保存\n",
    "catalog.write(\"japan-earthquakes.xml\", format=\"QUAKEML\")\n",
    "\n",
    "# 读取台站信息\n",
    "from obspy import read_events\n",
    "catalog_read = read_events(\"japan-earthquakes.xml\")\n",
    "\n",
    "# 地震目录类自带的绘图功能（类似GMT的参数\n",
    "catalog_read.plot(projection=\"local\", resolution=\"i\")"
   ]
  },
  {
   "cell_type": "markdown",
   "metadata": {},
   "source": [
    "### 地震波形\n",
    "\n",
    "[地震波形数据 — 地震“学”科研入门教程](https://seismo-learn.org/seismology101/exercises/waveform/)"
   ]
  },
  {
   "cell_type": "markdown",
   "metadata": {},
   "source": [
    "## 地震数据处理"
   ]
  }
 ],
 "metadata": {
  "kernelspec": {
   "display_name": "Python 3",
   "language": "python",
   "name": "python3"
  },
  "language_info": {
   "codemirror_mode": {
    "name": "ipython",
    "version": 3
   },
   "file_extension": ".py",
   "mimetype": "text/x-python",
   "name": "python",
   "nbconvert_exporter": "python",
   "pygments_lexer": "ipython3",
   "version": "3.12.1"
  }
 },
 "nbformat": 4,
 "nbformat_minor": 2
}
